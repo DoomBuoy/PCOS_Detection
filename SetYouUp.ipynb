{
 "cells": [
  {
   "cell_type": "markdown",
   "id": "88cc816e",
   "metadata": {},
   "source": [
    "# Project Setup\n",
    "\n",
    "This notebook will guide you through setting up your Python environment and downloading the dataset for the PCOS Detection project.\n"
   ]
  },
  {
   "cell_type": "code",
   "execution_count": null,
   "id": "abb57d53",
   "metadata": {},
   "outputs": [],
   "source": [
    "# Install Poetry (if not already installed)\n",
    "!pip install poetry"
   ]
  },
  {
   "cell_type": "code",
   "execution_count": null,
   "id": "3da0ba4d",
   "metadata": {},
   "outputs": [],
   "source": [
    "# Install pyenv-win and add to environment variables (if not already installed)\n",
    "!pip install pyenv-win --target %USERPROFILE%\\.pyenv\n",
    "!setx PATH \"%USERPROFILE%\\.pyenv\\pyenv-win\\bin;%USERPROFILE%\\.pyenv\\pyenv-win\\shims;%PATH%\""
   ]
  },
  {
   "cell_type": "code",
   "execution_count": null,
   "id": "5bea82bd",
   "metadata": {},
   "outputs": [],
   "source": [
    "import os\n",
    "\n",
    "# Install Python 3.11.6 using pyenv\n",
    "os.system('pyenv install 3.11.6')\n",
    "\n",
    "# Set local Python version to 3.11.6\n",
    "os.system('pyenv local 3.11.6')\n",
    "\n",
    "# Install project dependencies with poetry\n",
    "os.system('poetry install')\n",
    "\n",
    "# Install kaggle package\n",
    "os.system('pip install kaggle')"
   ]
  },
  {
   "cell_type": "markdown",
   "id": "94ff0266",
   "metadata": {},
   "source": [
    "## Kaggle API Setup\n",
    "\n",
    "1. Create a Kaggle account if you don't have one.\n",
    "2. Go to your Kaggle account settings and create a new API token.\n",
    "3. Download the `kaggle.json` file.\n",
    "4. Create a folder named `.kaggle` in your user directory (`C:\\Users\\<YOUR USERNAME>\\.kaggle`).\n",
    "5. Place the `kaggle.json` file in this folder."
   ]
  },
  {
   "cell_type": "code",
   "execution_count": null,
   "id": "2d9b7547",
   "metadata": {},
   "outputs": [],
   "source": [
    "# Once everything is set up, you can download the dataset by running the following in your terminal:\n",
    "os.system ('python pcos_detection/dataset.py')"
   ]
  }
 ],
 "metadata": {
  "kernelspec": {
   "display_name": "Python 3",
   "language": "python",
   "name": "python3"
  },
  "language_info": {
   "codemirror_mode": {
    "name": "ipython",
    "version": 3
   },
   "file_extension": ".py",
   "mimetype": "text/x-python",
   "name": "python",
   "nbconvert_exporter": "python",
   "pygments_lexer": "ipython3",
   "version": "3.13.7"
  }
 },
 "nbformat": 4,
 "nbformat_minor": 5
}
